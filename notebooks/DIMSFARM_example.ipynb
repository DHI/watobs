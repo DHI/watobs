{
 "cells": [
  {
   "attachments": {},
   "cell_type": "markdown",
   "metadata": {},
   "source": [
    "# DIMS.FARM REST API example"
   ]
  },
  {
   "cell_type": "code",
   "execution_count": 1,
   "metadata": {},
   "outputs": [],
   "source": [
    "import os\n",
    "import json\n",
    "\n",
    "import pandas as pd\n",
    "from requests import HTTPError\n",
    "\n",
    "from watobs.datafarm import DatafarmRepository\n",
    "\n",
    "api_key = os.getenv(\"DATAFARM_API_KEY\")\n",
    "assert api_key is not None\n"
   ]
  },
  {
   "attachments": {},
   "cell_type": "markdown",
   "metadata": {},
   "source": [
    "### Connect to DIMS.FARM REST API"
   ]
  },
  {
   "cell_type": "code",
   "execution_count": 2,
   "metadata": {},
   "outputs": [],
   "source": [
    "dfr = DatafarmRepository(api_key)\n",
    "dfr.connect()"
   ]
  },
  {
   "attachments": {},
   "cell_type": "markdown",
   "metadata": {},
   "source": [
    "### List available time series"
   ]
  },
  {
   "cell_type": "code",
   "execution_count": 6,
   "metadata": {},
   "outputs": [
    {
     "data": {
      "text/html": [
       "<div>\n",
       "<style scoped>\n",
       "    .dataframe tbody tr th:only-of-type {\n",
       "        vertical-align: middle;\n",
       "    }\n",
       "\n",
       "    .dataframe tbody tr th {\n",
       "        vertical-align: top;\n",
       "    }\n",
       "\n",
       "    .dataframe thead th {\n",
       "        text-align: right;\n",
       "    }\n",
       "</style>\n",
       "<table border=\"1\" class=\"dataframe\">\n",
       "  <thead>\n",
       "    <tr style=\"text-align: right;\">\n",
       "      <th></th>\n",
       "      <th>ID</th>\n",
       "      <th>EntityID</th>\n",
       "      <th>Touched</th>\n",
       "      <th>IDName</th>\n",
       "      <th>IDDescription</th>\n",
       "      <th>LocationID</th>\n",
       "      <th>TimeSeriesParameterID</th>\n",
       "      <th>TimeSeriesMediaID</th>\n",
       "      <th>TimeSeriesUnitID</th>\n",
       "      <th>TimeSeriesDataTypeID</th>\n",
       "      <th>TimeSeriesDatasourceID</th>\n",
       "      <th>TimeSeriesTypeID</th>\n",
       "      <th>TimeSeriesStatusID</th>\n",
       "      <th>TimeSeriesDataProviderID</th>\n",
       "      <th>TimeSeriesDataProviderArgument</th>\n",
       "      <th>DataExpectedCount</th>\n",
       "      <th>DataArchiveAfter</th>\n",
       "      <th>DataDeleteAfter</th>\n",
       "    </tr>\n",
       "    <tr>\n",
       "      <th>GUID</th>\n",
       "      <th></th>\n",
       "      <th></th>\n",
       "      <th></th>\n",
       "      <th></th>\n",
       "      <th></th>\n",
       "      <th></th>\n",
       "      <th></th>\n",
       "      <th></th>\n",
       "      <th></th>\n",
       "      <th></th>\n",
       "      <th></th>\n",
       "      <th></th>\n",
       "      <th></th>\n",
       "      <th></th>\n",
       "      <th></th>\n",
       "      <th></th>\n",
       "      <th></th>\n",
       "      <th></th>\n",
       "    </tr>\n",
       "  </thead>\n",
       "  <tbody>\n",
       "    <tr>\n",
       "      <th>{35D46EDD-C352-11ED-B2F7-1831BF2DC749}</th>\n",
       "      <td>2087</td>\n",
       "      <td>TNWB_wind_RVO-FUGRO_unfiltered_WS-120</td>\n",
       "      <td>2023-03-20 18:25:13</td>\n",
       "      <td>TNWB_wind_RVO-FUGRO_unfiltered_WS-120</td>\n",
       "      <td>Wind speed</td>\n",
       "      <td>TNWB</td>\n",
       "      <td>WS</td>\n",
       "      <td>wind</td>\n",
       "      <td>m/s</td>\n",
       "      <td>Unknown</td>\n",
       "      <td></td>\n",
       "      <td>RVO-FUGRO</td>\n",
       "      <td>unfiltered</td>\n",
       "      <td></td>\n",
       "      <td></td>\n",
       "      <td>NaN</td>\n",
       "      <td>NaN</td>\n",
       "      <td>NaN</td>\n",
       "    </tr>\n",
       "    <tr>\n",
       "      <th>{35D46EDF-C352-11ED-B2F7-1831BF2DC749}</th>\n",
       "      <td>2088</td>\n",
       "      <td>TNWB_wind_RVO-FUGRO_unfiltered_WS-130</td>\n",
       "      <td>2023-03-20 18:25:14</td>\n",
       "      <td>TNWB_wind_RVO-FUGRO_unfiltered_WS-130</td>\n",
       "      <td>Wind speed</td>\n",
       "      <td>TNWB</td>\n",
       "      <td>WS</td>\n",
       "      <td>wind</td>\n",
       "      <td>m/s</td>\n",
       "      <td>Unknown</td>\n",
       "      <td></td>\n",
       "      <td>RVO-FUGRO</td>\n",
       "      <td>unfiltered</td>\n",
       "      <td></td>\n",
       "      <td></td>\n",
       "      <td>NaN</td>\n",
       "      <td>NaN</td>\n",
       "      <td>NaN</td>\n",
       "    </tr>\n",
       "    <tr>\n",
       "      <th>{35D46EE1-C352-11ED-B2F7-1831BF2DC749}</th>\n",
       "      <td>2089</td>\n",
       "      <td>WHI_waves_CMEMS_unfiltered_Hm0</td>\n",
       "      <td>2023-03-20 18:25:14</td>\n",
       "      <td>WHI_waves_CMEMS_unfiltered_Hm0</td>\n",
       "      <td>Spectral significant wave height</td>\n",
       "      <td>WHI</td>\n",
       "      <td>Hm0</td>\n",
       "      <td>waves</td>\n",
       "      <td>m</td>\n",
       "      <td>Unknown</td>\n",
       "      <td></td>\n",
       "      <td>CMEMS</td>\n",
       "      <td>unfiltered</td>\n",
       "      <td></td>\n",
       "      <td></td>\n",
       "      <td>NaN</td>\n",
       "      <td>NaN</td>\n",
       "      <td>NaN</td>\n",
       "    </tr>\n",
       "    <tr>\n",
       "      <th>{3C93FFDB-C352-11ED-B2F7-1831BF2DC749}</th>\n",
       "      <td>2090</td>\n",
       "      <td>WHI_waves_CMEMS_unfiltered_Tz</td>\n",
       "      <td>2023-03-20 18:25:15</td>\n",
       "      <td>WHI_waves_CMEMS_unfiltered_Tz</td>\n",
       "      <td>Average zero crossing wave period (Tz)</td>\n",
       "      <td>WHI</td>\n",
       "      <td>Tz</td>\n",
       "      <td>waves</td>\n",
       "      <td>s</td>\n",
       "      <td>Unknown</td>\n",
       "      <td></td>\n",
       "      <td>CMEMS</td>\n",
       "      <td>unfiltered</td>\n",
       "      <td></td>\n",
       "      <td></td>\n",
       "      <td>NaN</td>\n",
       "      <td>NaN</td>\n",
       "      <td>NaN</td>\n",
       "    </tr>\n",
       "    <tr>\n",
       "      <th>{7B4D3518-EE55-11ED-B2FB-1831BF2DC749}</th>\n",
       "      <td>2091</td>\n",
       "      <td>testapi.insert</td>\n",
       "      <td>2023-05-25 12:21:41</td>\n",
       "      <td>testapi.insert</td>\n",
       "      <td></td>\n",
       "      <td></td>\n",
       "      <td></td>\n",
       "      <td></td>\n",
       "      <td></td>\n",
       "      <td>Unknown</td>\n",
       "      <td></td>\n",
       "      <td></td>\n",
       "      <td></td>\n",
       "      <td></td>\n",
       "      <td></td>\n",
       "      <td>NaN</td>\n",
       "      <td>NaN</td>\n",
       "      <td>NaN</td>\n",
       "    </tr>\n",
       "  </tbody>\n",
       "</table>\n",
       "</div>"
      ],
      "text/plain": [
       "                                          ID  \\\n",
       "GUID                                           \n",
       "{35D46EDD-C352-11ED-B2F7-1831BF2DC749}  2087   \n",
       "{35D46EDF-C352-11ED-B2F7-1831BF2DC749}  2088   \n",
       "{35D46EE1-C352-11ED-B2F7-1831BF2DC749}  2089   \n",
       "{3C93FFDB-C352-11ED-B2F7-1831BF2DC749}  2090   \n",
       "{7B4D3518-EE55-11ED-B2FB-1831BF2DC749}  2091   \n",
       "\n",
       "                                                                     EntityID  \\\n",
       "GUID                                                                            \n",
       "{35D46EDD-C352-11ED-B2F7-1831BF2DC749}  TNWB_wind_RVO-FUGRO_unfiltered_WS-120   \n",
       "{35D46EDF-C352-11ED-B2F7-1831BF2DC749}  TNWB_wind_RVO-FUGRO_unfiltered_WS-130   \n",
       "{35D46EE1-C352-11ED-B2F7-1831BF2DC749}         WHI_waves_CMEMS_unfiltered_Hm0   \n",
       "{3C93FFDB-C352-11ED-B2F7-1831BF2DC749}          WHI_waves_CMEMS_unfiltered_Tz   \n",
       "{7B4D3518-EE55-11ED-B2FB-1831BF2DC749}                         testapi.insert   \n",
       "\n",
       "                                                   Touched  \\\n",
       "GUID                                                         \n",
       "{35D46EDD-C352-11ED-B2F7-1831BF2DC749} 2023-03-20 18:25:13   \n",
       "{35D46EDF-C352-11ED-B2F7-1831BF2DC749} 2023-03-20 18:25:14   \n",
       "{35D46EE1-C352-11ED-B2F7-1831BF2DC749} 2023-03-20 18:25:14   \n",
       "{3C93FFDB-C352-11ED-B2F7-1831BF2DC749} 2023-03-20 18:25:15   \n",
       "{7B4D3518-EE55-11ED-B2FB-1831BF2DC749} 2023-05-25 12:21:41   \n",
       "\n",
       "                                                                       IDName  \\\n",
       "GUID                                                                            \n",
       "{35D46EDD-C352-11ED-B2F7-1831BF2DC749}  TNWB_wind_RVO-FUGRO_unfiltered_WS-120   \n",
       "{35D46EDF-C352-11ED-B2F7-1831BF2DC749}  TNWB_wind_RVO-FUGRO_unfiltered_WS-130   \n",
       "{35D46EE1-C352-11ED-B2F7-1831BF2DC749}         WHI_waves_CMEMS_unfiltered_Hm0   \n",
       "{3C93FFDB-C352-11ED-B2F7-1831BF2DC749}          WHI_waves_CMEMS_unfiltered_Tz   \n",
       "{7B4D3518-EE55-11ED-B2FB-1831BF2DC749}                         testapi.insert   \n",
       "\n",
       "                                                                 IDDescription  \\\n",
       "GUID                                                                             \n",
       "{35D46EDD-C352-11ED-B2F7-1831BF2DC749}                              Wind speed   \n",
       "{35D46EDF-C352-11ED-B2F7-1831BF2DC749}                              Wind speed   \n",
       "{35D46EE1-C352-11ED-B2F7-1831BF2DC749}        Spectral significant wave height   \n",
       "{3C93FFDB-C352-11ED-B2F7-1831BF2DC749}  Average zero crossing wave period (Tz)   \n",
       "{7B4D3518-EE55-11ED-B2FB-1831BF2DC749}                                           \n",
       "\n",
       "                                       LocationID TimeSeriesParameterID  \\\n",
       "GUID                                                                      \n",
       "{35D46EDD-C352-11ED-B2F7-1831BF2DC749}       TNWB                    WS   \n",
       "{35D46EDF-C352-11ED-B2F7-1831BF2DC749}       TNWB                    WS   \n",
       "{35D46EE1-C352-11ED-B2F7-1831BF2DC749}        WHI                   Hm0   \n",
       "{3C93FFDB-C352-11ED-B2F7-1831BF2DC749}        WHI                    Tz   \n",
       "{7B4D3518-EE55-11ED-B2FB-1831BF2DC749}                                    \n",
       "\n",
       "                                       TimeSeriesMediaID TimeSeriesUnitID  \\\n",
       "GUID                                                                        \n",
       "{35D46EDD-C352-11ED-B2F7-1831BF2DC749}              wind              m/s   \n",
       "{35D46EDF-C352-11ED-B2F7-1831BF2DC749}              wind              m/s   \n",
       "{35D46EE1-C352-11ED-B2F7-1831BF2DC749}             waves                m   \n",
       "{3C93FFDB-C352-11ED-B2F7-1831BF2DC749}             waves                s   \n",
       "{7B4D3518-EE55-11ED-B2FB-1831BF2DC749}                                      \n",
       "\n",
       "                                       TimeSeriesDataTypeID  \\\n",
       "GUID                                                          \n",
       "{35D46EDD-C352-11ED-B2F7-1831BF2DC749}              Unknown   \n",
       "{35D46EDF-C352-11ED-B2F7-1831BF2DC749}              Unknown   \n",
       "{35D46EE1-C352-11ED-B2F7-1831BF2DC749}              Unknown   \n",
       "{3C93FFDB-C352-11ED-B2F7-1831BF2DC749}              Unknown   \n",
       "{7B4D3518-EE55-11ED-B2FB-1831BF2DC749}              Unknown   \n",
       "\n",
       "                                       TimeSeriesDatasourceID  \\\n",
       "GUID                                                            \n",
       "{35D46EDD-C352-11ED-B2F7-1831BF2DC749}                          \n",
       "{35D46EDF-C352-11ED-B2F7-1831BF2DC749}                          \n",
       "{35D46EE1-C352-11ED-B2F7-1831BF2DC749}                          \n",
       "{3C93FFDB-C352-11ED-B2F7-1831BF2DC749}                          \n",
       "{7B4D3518-EE55-11ED-B2FB-1831BF2DC749}                          \n",
       "\n",
       "                                       TimeSeriesTypeID TimeSeriesStatusID  \\\n",
       "GUID                                                                         \n",
       "{35D46EDD-C352-11ED-B2F7-1831BF2DC749}        RVO-FUGRO         unfiltered   \n",
       "{35D46EDF-C352-11ED-B2F7-1831BF2DC749}        RVO-FUGRO         unfiltered   \n",
       "{35D46EE1-C352-11ED-B2F7-1831BF2DC749}            CMEMS         unfiltered   \n",
       "{3C93FFDB-C352-11ED-B2F7-1831BF2DC749}            CMEMS         unfiltered   \n",
       "{7B4D3518-EE55-11ED-B2FB-1831BF2DC749}                                       \n",
       "\n",
       "                                       TimeSeriesDataProviderID  \\\n",
       "GUID                                                              \n",
       "{35D46EDD-C352-11ED-B2F7-1831BF2DC749}                            \n",
       "{35D46EDF-C352-11ED-B2F7-1831BF2DC749}                            \n",
       "{35D46EE1-C352-11ED-B2F7-1831BF2DC749}                            \n",
       "{3C93FFDB-C352-11ED-B2F7-1831BF2DC749}                            \n",
       "{7B4D3518-EE55-11ED-B2FB-1831BF2DC749}                            \n",
       "\n",
       "                                       TimeSeriesDataProviderArgument  \\\n",
       "GUID                                                                    \n",
       "{35D46EDD-C352-11ED-B2F7-1831BF2DC749}                                  \n",
       "{35D46EDF-C352-11ED-B2F7-1831BF2DC749}                                  \n",
       "{35D46EE1-C352-11ED-B2F7-1831BF2DC749}                                  \n",
       "{3C93FFDB-C352-11ED-B2F7-1831BF2DC749}                                  \n",
       "{7B4D3518-EE55-11ED-B2FB-1831BF2DC749}                                  \n",
       "\n",
       "                                        DataExpectedCount  DataArchiveAfter  \\\n",
       "GUID                                                                          \n",
       "{35D46EDD-C352-11ED-B2F7-1831BF2DC749}                NaN               NaN   \n",
       "{35D46EDF-C352-11ED-B2F7-1831BF2DC749}                NaN               NaN   \n",
       "{35D46EE1-C352-11ED-B2F7-1831BF2DC749}                NaN               NaN   \n",
       "{3C93FFDB-C352-11ED-B2F7-1831BF2DC749}                NaN               NaN   \n",
       "{7B4D3518-EE55-11ED-B2FB-1831BF2DC749}                NaN               NaN   \n",
       "\n",
       "                                        DataDeleteAfter  \n",
       "GUID                                                     \n",
       "{35D46EDD-C352-11ED-B2F7-1831BF2DC749}              NaN  \n",
       "{35D46EDF-C352-11ED-B2F7-1831BF2DC749}              NaN  \n",
       "{35D46EE1-C352-11ED-B2F7-1831BF2DC749}              NaN  \n",
       "{3C93FFDB-C352-11ED-B2F7-1831BF2DC749}              NaN  \n",
       "{7B4D3518-EE55-11ED-B2FB-1831BF2DC749}              NaN  "
      ]
     },
     "execution_count": 6,
     "metadata": {},
     "output_type": "execute_result"
    }
   ],
   "source": [
    "time_series_list = dfr.list_time_series()\n",
    "time_series_list.tail()"
   ]
  },
  {
   "cell_type": "code",
   "execution_count": null,
   "metadata": {},
   "outputs": [],
   "source": []
  },
  {
   "cell_type": "code",
   "execution_count": 7,
   "metadata": {},
   "outputs": [
    {
     "data": {
      "text/html": [
       "<div>\n",
       "<style scoped>\n",
       "    .dataframe tbody tr th:only-of-type {\n",
       "        vertical-align: middle;\n",
       "    }\n",
       "\n",
       "    .dataframe tbody tr th {\n",
       "        vertical-align: top;\n",
       "    }\n",
       "\n",
       "    .dataframe thead th {\n",
       "        text-align: right;\n",
       "    }\n",
       "</style>\n",
       "<table border=\"1\" class=\"dataframe\">\n",
       "  <thead>\n",
       "    <tr style=\"text-align: right;\">\n",
       "      <th></th>\n",
       "      <th>First</th>\n",
       "      <th>Last</th>\n",
       "      <th>DailyCount</th>\n",
       "    </tr>\n",
       "    <tr>\n",
       "      <th>Name</th>\n",
       "      <th></th>\n",
       "      <th></th>\n",
       "      <th></th>\n",
       "    </tr>\n",
       "  </thead>\n",
       "  <tbody>\n",
       "    <tr>\n",
       "      <th>TNWB_wind_RVO-FUGRO_unfiltered_WS-70</th>\n",
       "      <td>2019-06-19</td>\n",
       "      <td>2021-02-16</td>\n",
       "      <td>144</td>\n",
       "    </tr>\n",
       "    <tr>\n",
       "      <th>TNWB_wind_RVO-FUGRO_unfiltered_WS-80</th>\n",
       "      <td>2019-06-19</td>\n",
       "      <td>2021-02-16</td>\n",
       "      <td>144</td>\n",
       "    </tr>\n",
       "    <tr>\n",
       "      <th>TNWB_wind_RVO-FUGRO_unfiltered_WS-90</th>\n",
       "      <td>2019-06-19</td>\n",
       "      <td>2021-02-16</td>\n",
       "      <td>144</td>\n",
       "    </tr>\n",
       "    <tr>\n",
       "      <th>TNWB_wind_RVO-FUGRO_unfiltered_WS-100</th>\n",
       "      <td>2019-06-19</td>\n",
       "      <td>2021-02-16</td>\n",
       "      <td>144</td>\n",
       "    </tr>\n",
       "    <tr>\n",
       "      <th>TNWB_wind_RVO-FUGRO_unfiltered_WS-110</th>\n",
       "      <td>2019-06-19</td>\n",
       "      <td>2021-02-16</td>\n",
       "      <td>144</td>\n",
       "    </tr>\n",
       "    <tr>\n",
       "      <th>TNWB_wind_RVO-FUGRO_unfiltered_WS-120</th>\n",
       "      <td>2019-06-19</td>\n",
       "      <td>2021-02-16</td>\n",
       "      <td>144</td>\n",
       "    </tr>\n",
       "    <tr>\n",
       "      <th>TNWB_wind_RVO-FUGRO_unfiltered_WS-130</th>\n",
       "      <td>2019-06-19</td>\n",
       "      <td>2021-02-16</td>\n",
       "      <td>144</td>\n",
       "    </tr>\n",
       "    <tr>\n",
       "      <th>WHI_waves_CMEMS_unfiltered_Hm0</th>\n",
       "      <td>2011-05-19</td>\n",
       "      <td>2022-10-01</td>\n",
       "      <td>48</td>\n",
       "    </tr>\n",
       "    <tr>\n",
       "      <th>WHI_waves_CMEMS_unfiltered_Tz</th>\n",
       "      <td>2011-05-19</td>\n",
       "      <td>2022-10-01</td>\n",
       "      <td>48</td>\n",
       "    </tr>\n",
       "    <tr>\n",
       "      <th>testapi.insert</th>\n",
       "      <td>2012-08-23</td>\n",
       "      <td>2023-05-13</td>\n",
       "      <td>144</td>\n",
       "    </tr>\n",
       "  </tbody>\n",
       "</table>\n",
       "</div>"
      ],
      "text/plain": [
       "                                           First       Last  DailyCount\n",
       "Name                                                                   \n",
       "TNWB_wind_RVO-FUGRO_unfiltered_WS-70  2019-06-19 2021-02-16         144\n",
       "TNWB_wind_RVO-FUGRO_unfiltered_WS-80  2019-06-19 2021-02-16         144\n",
       "TNWB_wind_RVO-FUGRO_unfiltered_WS-90  2019-06-19 2021-02-16         144\n",
       "TNWB_wind_RVO-FUGRO_unfiltered_WS-100 2019-06-19 2021-02-16         144\n",
       "TNWB_wind_RVO-FUGRO_unfiltered_WS-110 2019-06-19 2021-02-16         144\n",
       "TNWB_wind_RVO-FUGRO_unfiltered_WS-120 2019-06-19 2021-02-16         144\n",
       "TNWB_wind_RVO-FUGRO_unfiltered_WS-130 2019-06-19 2021-02-16         144\n",
       "WHI_waves_CMEMS_unfiltered_Hm0        2011-05-19 2022-10-01          48\n",
       "WHI_waves_CMEMS_unfiltered_Tz         2011-05-19 2022-10-01          48\n",
       "testapi.insert                        2012-08-23 2023-05-13         144"
      ]
     },
     "execution_count": 7,
     "metadata": {},
     "output_type": "execute_result"
    }
   ],
   "source": [
    "dfr.get_statistics(time_series_list['EntityID'].iloc[-10:])"
   ]
  },
  {
   "attachments": {},
   "cell_type": "markdown",
   "metadata": {},
   "source": [
    "### Get time series data"
   ]
  },
  {
   "cell_type": "code",
   "execution_count": 11,
   "metadata": {},
   "outputs": [
    {
     "data": {
      "text/html": [
       "<div>\n",
       "<style scoped>\n",
       "    .dataframe tbody tr th:only-of-type {\n",
       "        vertical-align: middle;\n",
       "    }\n",
       "\n",
       "    .dataframe tbody tr th {\n",
       "        vertical-align: top;\n",
       "    }\n",
       "\n",
       "    .dataframe thead th {\n",
       "        text-align: right;\n",
       "    }\n",
       "</style>\n",
       "<table border=\"1\" class=\"dataframe\">\n",
       "  <thead>\n",
       "    <tr style=\"text-align: right;\">\n",
       "      <th></th>\n",
       "      <th>Data</th>\n",
       "      <th>QualityTxt</th>\n",
       "    </tr>\n",
       "    <tr>\n",
       "      <th>RefDateTimeRef</th>\n",
       "      <th></th>\n",
       "      <th></th>\n",
       "    </tr>\n",
       "  </thead>\n",
       "  <tbody>\n",
       "    <tr>\n",
       "      <th>2022-09-28 23:26:48</th>\n",
       "      <td>637.0</td>\n",
       "      <td>ok</td>\n",
       "    </tr>\n",
       "    <tr>\n",
       "      <th>2022-09-28 23:26:48</th>\n",
       "      <td>637.0</td>\n",
       "      <td>ok</td>\n",
       "    </tr>\n",
       "    <tr>\n",
       "      <th>2022-09-28 23:56:40</th>\n",
       "      <td>637.0</td>\n",
       "      <td>ok</td>\n",
       "    </tr>\n",
       "    <tr>\n",
       "      <th>2022-09-28 23:56:50</th>\n",
       "      <td>637.0</td>\n",
       "      <td>ok</td>\n",
       "    </tr>\n",
       "    <tr>\n",
       "      <th>2022-09-28 23:56:50</th>\n",
       "      <td>637.0</td>\n",
       "      <td>ok</td>\n",
       "    </tr>\n",
       "  </tbody>\n",
       "</table>\n",
       "</div>"
      ],
      "text/plain": [
       "                      Data QualityTxt\n",
       "RefDateTimeRef                       \n",
       "2022-09-28 23:26:48  637.0         ok\n",
       "2022-09-28 23:26:48  637.0         ok\n",
       "2022-09-28 23:56:40  637.0         ok\n",
       "2022-09-28 23:56:50  637.0         ok\n",
       "2022-09-28 23:56:50  637.0         ok"
      ]
     },
     "execution_count": 11,
     "metadata": {},
     "output_type": "execute_result"
    }
   ],
   "source": [
    "data = dfr.get_data(\n",
    "    time_series_id=\"testapi.insert\",\n",
    "    limit=5,\n",
    "    ascending=True\n",
    ")\n",
    "data"
   ]
  },
  {
   "attachments": {},
   "cell_type": "markdown",
   "metadata": {},
   "source": [
    "### Delete data in a given range:"
   ]
  },
  {
   "cell_type": "code",
   "execution_count": 10,
   "metadata": {},
   "outputs": [
    {
     "name": "stdout",
     "output_type": "stream",
     "text": [
      "Deleting data in range [2012-08-15 09:23:56, 2014-11-02 09:23:56)\n"
     ]
    },
    {
     "data": {
      "text/plain": [
       "{'result': 'delete range successful'}"
      ]
     },
     "execution_count": 10,
     "metadata": {},
     "output_type": "execute_result"
    }
   ],
   "source": [
    "start, end = data.index[0], data.index[2]\n",
    "print(f\"Deleting data in range [{start}, {end})\")\n",
    "res = dfr.delete_data(\"testapi.insert\", start=start, end=end)\n",
    "res.json()"
   ]
  },
  {
   "cell_type": "code",
   "execution_count": 12,
   "metadata": {},
   "outputs": [
    {
     "name": "stdout",
     "output_type": "stream",
     "text": [
      "Deleting data for timestamps DatetimeIndex(['2022-09-28 23:26:48', '2022-09-28 23:26:48',\n",
      "               '2022-09-28 23:56:40'],\n",
      "              dtype='datetime64[ns]', name='RefDateTimeRef', freq=None)\n"
     ]
    },
    {
     "data": {
      "text/plain": [
       "{'result': '3 items deleted'}"
      ]
     },
     "execution_count": 12,
     "metadata": {},
     "output_type": "execute_result"
    }
   ],
   "source": [
    "timestamps = data.index[:3]\n",
    "print(f\"Deleting data for timestamps {timestamps}\")\n",
    "res = dfr.delete_data(\"testapi.insert\", timestamps=timestamps)\n",
    "res.json()"
   ]
  },
  {
   "cell_type": "code",
   "execution_count": 13,
   "metadata": {},
   "outputs": [
    {
     "data": {
      "text/plain": [
       "{'result': '3 items deleted'}"
      ]
     },
     "execution_count": 13,
     "metadata": {},
     "output_type": "execute_result"
    }
   ],
   "source": [
    "res.json()"
   ]
  },
  {
   "attachments": {},
   "cell_type": "markdown",
   "metadata": {},
   "source": [
    "Check that the data has been deleted:"
   ]
  },
  {
   "cell_type": "code",
   "execution_count": 14,
   "metadata": {},
   "outputs": [
    {
     "data": {
      "text/html": [
       "<div>\n",
       "<style scoped>\n",
       "    .dataframe tbody tr th:only-of-type {\n",
       "        vertical-align: middle;\n",
       "    }\n",
       "\n",
       "    .dataframe tbody tr th {\n",
       "        vertical-align: top;\n",
       "    }\n",
       "\n",
       "    .dataframe thead th {\n",
       "        text-align: right;\n",
       "    }\n",
       "</style>\n",
       "<table border=\"1\" class=\"dataframe\">\n",
       "  <thead>\n",
       "    <tr style=\"text-align: right;\">\n",
       "      <th></th>\n",
       "      <th>Data</th>\n",
       "      <th>QualityTxt</th>\n",
       "    </tr>\n",
       "    <tr>\n",
       "      <th>RefDateTimeRef</th>\n",
       "      <th></th>\n",
       "      <th></th>\n",
       "    </tr>\n",
       "  </thead>\n",
       "  <tbody>\n",
       "    <tr>\n",
       "      <th>2022-09-28 23:26:48</th>\n",
       "      <td>637.0</td>\n",
       "      <td>ok</td>\n",
       "    </tr>\n",
       "    <tr>\n",
       "      <th>2022-09-28 23:26:48</th>\n",
       "      <td>637.0</td>\n",
       "      <td>ok</td>\n",
       "    </tr>\n",
       "    <tr>\n",
       "      <th>2022-09-28 23:56:40</th>\n",
       "      <td>637.0</td>\n",
       "      <td>ok</td>\n",
       "    </tr>\n",
       "    <tr>\n",
       "      <th>2022-09-28 23:56:50</th>\n",
       "      <td>637.0</td>\n",
       "      <td>ok</td>\n",
       "    </tr>\n",
       "    <tr>\n",
       "      <th>2022-09-28 23:56:50</th>\n",
       "      <td>637.0</td>\n",
       "      <td>ok</td>\n",
       "    </tr>\n",
       "    <tr>\n",
       "      <th>2022-09-29 00:26:43</th>\n",
       "      <td>637.0</td>\n",
       "      <td>ok</td>\n",
       "    </tr>\n",
       "    <tr>\n",
       "      <th>2022-09-29 00:26:48</th>\n",
       "      <td>637.0</td>\n",
       "      <td>ok</td>\n",
       "    </tr>\n",
       "    <tr>\n",
       "      <th>2022-09-29 00:26:48</th>\n",
       "      <td>637.0</td>\n",
       "      <td>ok</td>\n",
       "    </tr>\n",
       "    <tr>\n",
       "      <th>2022-09-29 00:56:40</th>\n",
       "      <td>637.0</td>\n",
       "      <td>ok</td>\n",
       "    </tr>\n",
       "    <tr>\n",
       "      <th>2022-09-29 00:56:50</th>\n",
       "      <td>637.0</td>\n",
       "      <td>ok</td>\n",
       "    </tr>\n",
       "  </tbody>\n",
       "</table>\n",
       "</div>"
      ],
      "text/plain": [
       "                      Data QualityTxt\n",
       "RefDateTimeRef                       \n",
       "2022-09-28 23:26:48  637.0         ok\n",
       "2022-09-28 23:26:48  637.0         ok\n",
       "2022-09-28 23:56:40  637.0         ok\n",
       "2022-09-28 23:56:50  637.0         ok\n",
       "2022-09-28 23:56:50  637.0         ok\n",
       "2022-09-29 00:26:43  637.0         ok\n",
       "2022-09-29 00:26:48  637.0         ok\n",
       "2022-09-29 00:26:48  637.0         ok\n",
       "2022-09-29 00:56:40  637.0         ok\n",
       "2022-09-29 00:56:50  637.0         ok"
      ]
     },
     "execution_count": 14,
     "metadata": {},
     "output_type": "execute_result"
    }
   ],
   "source": [
    "data = dfr.get_data(\n",
    "    time_series_id=\"testapi.insert\",\n",
    "    limit=10,\n",
    "    ascending=True\n",
    ")\n",
    "data"
   ]
  },
  {
   "attachments": {},
   "cell_type": "markdown",
   "metadata": {},
   "source": [
    "### Insert time series data"
   ]
  },
  {
   "attachments": {},
   "cell_type": "markdown",
   "metadata": {},
   "source": [
    "Here we prepare some data to insert in form of a dataframe."
   ]
  },
  {
   "cell_type": "code",
   "execution_count": 31,
   "metadata": {},
   "outputs": [
    {
     "data": {
      "text/html": [
       "<div>\n",
       "<style scoped>\n",
       "    .dataframe tbody tr th:only-of-type {\n",
       "        vertical-align: middle;\n",
       "    }\n",
       "\n",
       "    .dataframe tbody tr th {\n",
       "        vertical-align: top;\n",
       "    }\n",
       "\n",
       "    .dataframe thead th {\n",
       "        text-align: right;\n",
       "    }\n",
       "</style>\n",
       "<table border=\"1\" class=\"dataframe\">\n",
       "  <thead>\n",
       "    <tr style=\"text-align: right;\">\n",
       "      <th></th>\n",
       "      <th>TimeStamp</th>\n",
       "      <th>Data</th>\n",
       "      <th>Quality</th>\n",
       "    </tr>\n",
       "  </thead>\n",
       "  <tbody>\n",
       "    <tr>\n",
       "      <th>0</th>\n",
       "      <td>2013-04-09 12:08:34.569015</td>\n",
       "      <td>NaN</td>\n",
       "      <td>ok</td>\n",
       "    </tr>\n",
       "    <tr>\n",
       "      <th>1</th>\n",
       "      <td>2013-01-10 12:08:34.569137</td>\n",
       "      <td>0.739488</td>\n",
       "      <td>ok</td>\n",
       "    </tr>\n",
       "    <tr>\n",
       "      <th>2</th>\n",
       "      <td>2013-11-30 12:08:34.569167</td>\n",
       "      <td>0.339588</td>\n",
       "      <td>ok</td>\n",
       "    </tr>\n",
       "    <tr>\n",
       "      <th>3</th>\n",
       "      <td>2013-04-08 12:08:34.569188</td>\n",
       "      <td>0.414195</td>\n",
       "      <td>ok</td>\n",
       "    </tr>\n",
       "    <tr>\n",
       "      <th>4</th>\n",
       "      <td>2012-09-03 12:08:34.569207</td>\n",
       "      <td>0.719339</td>\n",
       "      <td>ok</td>\n",
       "    </tr>\n",
       "  </tbody>\n",
       "</table>\n",
       "</div>"
      ],
      "text/plain": [
       "                   TimeStamp      Data Quality\n",
       "0 2013-04-09 12:08:34.569015       NaN      ok\n",
       "1 2013-01-10 12:08:34.569137  0.739488      ok\n",
       "2 2013-11-30 12:08:34.569167  0.339588      ok\n",
       "3 2013-04-08 12:08:34.569188  0.414195      ok\n",
       "4 2012-09-03 12:08:34.569207  0.719339      ok"
      ]
     },
     "execution_count": 31,
     "metadata": {},
     "output_type": "execute_result"
    }
   ],
   "source": [
    "import random\n",
    "\n",
    "random_date = lambda: pd.Timestamp.now() - pd.Timedelta(days=3000 + random.randint(1, 1000))\n",
    "rows = 5\n",
    "new_data = pd.DataFrame({\n",
    "    \"TimeStamp\": [random_date() for _ in range(rows)],\n",
    "    \"Data\": [random.random() for _ in range(rows)],\n",
    "    \"Quality\": [\"ok\"] * rows,\n",
    "})\n",
    "new_data.loc[0, \"Data\"] = None\n",
    "new_data\n"
   ]
  },
  {
   "attachments": {},
   "cell_type": "markdown",
   "metadata": {},
   "source": [
    "To insert the data we use the `insert_data` method:"
   ]
  },
  {
   "cell_type": "code",
   "execution_count": 32,
   "metadata": {},
   "outputs": [],
   "source": [
    "try:\n",
    "    res = dfr.insert_data(\"testapi.insert\", new_data, bulk_insert=True)\n",
    "except HTTPError as e:\n",
    "    print(e)"
   ]
  },
  {
   "cell_type": "code",
   "execution_count": 33,
   "metadata": {},
   "outputs": [
    {
     "data": {
      "text/plain": [
       "{'ItemsWritten': 5}"
      ]
     },
     "execution_count": 33,
     "metadata": {},
     "output_type": "execute_result"
    }
   ],
   "source": [
    "res.json()"
   ]
  },
  {
   "attachments": {},
   "cell_type": "markdown",
   "metadata": {},
   "source": [
    "We can peek at the json body for the call to the API. The NaN value is represented as {\"N\": 1, \"V\": 0}."
   ]
  },
  {
   "cell_type": "code",
   "execution_count": 34,
   "metadata": {},
   "outputs": [
    {
     "data": {
      "text/plain": [
       "{'BulkInsert': True,\n",
       " 'TimeSeriesName': 'testapi.insert',\n",
       " 'TimeStamp': ['2013-04-09T12:08:34.569015Z',\n",
       "  '2013-01-10T12:08:34.569137Z',\n",
       "  '2013-11-30T12:08:34.569167Z',\n",
       "  '2013-04-08T12:08:34.569188Z',\n",
       "  '2012-09-03T12:08:34.569207Z'],\n",
       " 'Data': [{'N': 1, 'V': 0.0},\n",
       "  {'N': 0, 'V': 0.739487639991458},\n",
       "  {'N': 0, 'V': 0.3395877725181353},\n",
       "  {'N': 0, 'V': 0.414195228373305},\n",
       "  {'N': 0, 'V': 0.7193391994039372}],\n",
       " 'QualityLevel': [0, 0, 0, 0, 0]}"
      ]
     },
     "execution_count": 34,
     "metadata": {},
     "output_type": "execute_result"
    }
   ],
   "source": [
    "json.loads(res.request.body)"
   ]
  },
  {
   "attachments": {},
   "cell_type": "markdown",
   "metadata": {},
   "source": [
    "### Close connection"
   ]
  },
  {
   "cell_type": "code",
   "execution_count": 11,
   "metadata": {},
   "outputs": [
    {
     "name": "stdout",
     "output_type": "stream",
     "text": [
      "401 Client Error: Unauthorized for url: https://apidevtest.datafarm.work/api/List/TimeSeries/\n"
     ]
    }
   ],
   "source": [
    "dfr.close()\n",
    "\n",
    "# Now this will fail:\n",
    "try:\n",
    "    dfr.list_time_series()\n",
    "except HTTPError as e:\n",
    "    print(e)"
   ]
  },
  {
   "cell_type": "code",
   "execution_count": 12,
   "metadata": {},
   "outputs": [],
   "source": [
    "# Reconnect and try again\n",
    "dfr.connect()\n",
    "dfr.list_time_series().head()\n",
    "dfr.close()"
   ]
  },
  {
   "attachments": {},
   "cell_type": "markdown",
   "metadata": {},
   "source": [
    "### Using the context manager"
   ]
  },
  {
   "cell_type": "code",
   "execution_count": 13,
   "metadata": {},
   "outputs": [
    {
     "data": {
      "text/html": [
       "<div>\n",
       "<style scoped>\n",
       "    .dataframe tbody tr th:only-of-type {\n",
       "        vertical-align: middle;\n",
       "    }\n",
       "\n",
       "    .dataframe tbody tr th {\n",
       "        vertical-align: top;\n",
       "    }\n",
       "\n",
       "    .dataframe thead th {\n",
       "        text-align: right;\n",
       "    }\n",
       "</style>\n",
       "<table border=\"1\" class=\"dataframe\">\n",
       "  <thead>\n",
       "    <tr style=\"text-align: right;\">\n",
       "      <th></th>\n",
       "      <th>Data</th>\n",
       "      <th>QualityTxt</th>\n",
       "    </tr>\n",
       "    <tr>\n",
       "      <th>RefDateTimeRef</th>\n",
       "      <th></th>\n",
       "      <th></th>\n",
       "    </tr>\n",
       "  </thead>\n",
       "  <tbody>\n",
       "    <tr>\n",
       "      <th>2012-08-14 09:58:24</th>\n",
       "      <td>0.727511</td>\n",
       "      <td>ok</td>\n",
       "    </tr>\n",
       "    <tr>\n",
       "      <th>2014-12-15 09:58:24</th>\n",
       "      <td>0.024472</td>\n",
       "      <td>ok</td>\n",
       "    </tr>\n",
       "  </tbody>\n",
       "</table>\n",
       "</div>"
      ],
      "text/plain": [
       "                         Data QualityTxt\n",
       "RefDateTimeRef                          \n",
       "2012-08-14 09:58:24  0.727511         ok\n",
       "2014-12-15 09:58:24  0.024472         ok"
      ]
     },
     "execution_count": 13,
     "metadata": {},
     "output_type": "execute_result"
    }
   ],
   "source": [
    "\n",
    "with DatafarmRepository(api_key) as dfr:\n",
    "    data = dfr.get_data(\n",
    "        time_series_id=\"testapi.insert\",\n",
    "        limit=2\n",
    "    )\n",
    "data"
   ]
  }
 ],
 "metadata": {
  "kernelspec": {
   "display_name": "base",
   "language": "python",
   "name": "python3"
  },
  "language_info": {
   "codemirror_mode": {
    "name": "ipython",
    "version": 3
   },
   "file_extension": ".py",
   "mimetype": "text/x-python",
   "name": "python",
   "nbconvert_exporter": "python",
   "pygments_lexer": "ipython3",
   "version": "3.10.8"
  },
  "orig_nbformat": 4,
  "vscode": {
   "interpreter": {
    "hash": "7aec4f91c09090e98e6ae8203c38529831bb4a3ce54cd1b69639b53cb01a6aa9"
   }
  }
 },
 "nbformat": 4,
 "nbformat_minor": 2
}
