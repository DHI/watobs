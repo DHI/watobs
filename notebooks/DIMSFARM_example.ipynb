{
 "cells": [
  {
   "attachments": {},
   "cell_type": "markdown",
   "metadata": {},
   "source": [
    "# DIMS.FARM REST API example"
   ]
  },
  {
   "cell_type": "code",
   "execution_count": 1,
   "metadata": {},
   "outputs": [],
   "source": [
    "import os\n",
    "import json\n",
    "\n",
    "import pandas as pd\n",
    "from requests import HTTPError\n",
    "\n",
    "from watobs.datafarm import DatafarmRepository\n",
    "\n",
    "api_key = os.getenv(\"DATAFARM_API_KEY\")\n",
    "assert api_key is not None\n"
   ]
  },
  {
   "attachments": {},
   "cell_type": "markdown",
   "metadata": {},
   "source": [
    "### Connect to DIMS.FARM REST API"
   ]
  },
  {
   "cell_type": "code",
   "execution_count": 2,
   "metadata": {},
   "outputs": [],
   "source": [
    "dfr = DatafarmRepository(api_key)\n",
    "dfr.connect()"
   ]
  },
  {
   "attachments": {},
   "cell_type": "markdown",
   "metadata": {},
   "source": [
    "### List available time series"
   ]
  },
  {
   "cell_type": "code",
   "execution_count": 3,
   "metadata": {},
   "outputs": [
    {
     "data": {
      "text/html": [
       "<div>\n",
       "<style scoped>\n",
       "    .dataframe tbody tr th:only-of-type {\n",
       "        vertical-align: middle;\n",
       "    }\n",
       "\n",
       "    .dataframe tbody tr th {\n",
       "        vertical-align: top;\n",
       "    }\n",
       "\n",
       "    .dataframe thead th {\n",
       "        text-align: right;\n",
       "    }\n",
       "</style>\n",
       "<table border=\"1\" class=\"dataframe\">\n",
       "  <thead>\n",
       "    <tr style=\"text-align: right;\">\n",
       "      <th></th>\n",
       "      <th>ID</th>\n",
       "      <th>EntityID</th>\n",
       "      <th>Touched</th>\n",
       "      <th>IDName</th>\n",
       "      <th>IDDescription</th>\n",
       "      <th>LocationID</th>\n",
       "      <th>TimeSeriesParameterID</th>\n",
       "      <th>TimeSeriesMediaID</th>\n",
       "      <th>TimeSeriesUnitID</th>\n",
       "      <th>TimeSeriesDataTypeID</th>\n",
       "      <th>TimeSeriesDatasourceID</th>\n",
       "      <th>TimeSeriesTypeID</th>\n",
       "      <th>TimeSeriesStatusID</th>\n",
       "      <th>TimeSeriesDataProviderID</th>\n",
       "      <th>TimeSeriesDataProviderArgument</th>\n",
       "      <th>DataExpectedCount</th>\n",
       "      <th>DataArchiveAfter</th>\n",
       "      <th>DataDeleteAfter</th>\n",
       "    </tr>\n",
       "    <tr>\n",
       "      <th>GUID</th>\n",
       "      <th></th>\n",
       "      <th></th>\n",
       "      <th></th>\n",
       "      <th></th>\n",
       "      <th></th>\n",
       "      <th></th>\n",
       "      <th></th>\n",
       "      <th></th>\n",
       "      <th></th>\n",
       "      <th></th>\n",
       "      <th></th>\n",
       "      <th></th>\n",
       "      <th></th>\n",
       "      <th></th>\n",
       "      <th></th>\n",
       "      <th></th>\n",
       "      <th></th>\n",
       "      <th></th>\n",
       "    </tr>\n",
       "  </thead>\n",
       "  <tbody>\n",
       "    <tr>\n",
       "      <th>{62F60AF2-C34A-11ED-B2F7-1831BF2DC749}</th>\n",
       "      <td>2</td>\n",
       "      <td>AKZ_waves_CMEMS_unfiltered_Hm0</td>\n",
       "      <td>2023-03-20 17:18:42</td>\n",
       "      <td>AKZ_waves_CMEMS_unfiltered_Hm0</td>\n",
       "      <td>Spectral significant wave height</td>\n",
       "      <td>AKZ</td>\n",
       "      <td>Hm0</td>\n",
       "      <td>waves</td>\n",
       "      <td>m</td>\n",
       "      <td>Provider</td>\n",
       "      <td></td>\n",
       "      <td>CMEMS</td>\n",
       "      <td>unfiltered</td>\n",
       "      <td></td>\n",
       "      <td></td>\n",
       "      <td>NaN</td>\n",
       "      <td>NaN</td>\n",
       "      <td>NaN</td>\n",
       "    </tr>\n",
       "    <tr>\n",
       "      <th>{7394526A-C34A-11ED-B2F7-1831BF2DC749}</th>\n",
       "      <td>3</td>\n",
       "      <td>AKZ_waves_CMEMS_unfiltered_Tz</td>\n",
       "      <td>2023-03-20 17:18:43</td>\n",
       "      <td>AKZ_waves_CMEMS_unfiltered_Tz</td>\n",
       "      <td>Average zero crossing wave period (Tz)</td>\n",
       "      <td>AKZ</td>\n",
       "      <td>Tz</td>\n",
       "      <td>waves</td>\n",
       "      <td>s</td>\n",
       "      <td>Provider</td>\n",
       "      <td></td>\n",
       "      <td>CMEMS</td>\n",
       "      <td>unfiltered</td>\n",
       "      <td></td>\n",
       "      <td></td>\n",
       "      <td>NaN</td>\n",
       "      <td>NaN</td>\n",
       "      <td>NaN</td>\n",
       "    </tr>\n",
       "    <tr>\n",
       "      <th>{7394526B-C34A-11ED-B2F7-1831BF2DC749}</th>\n",
       "      <td>4</td>\n",
       "      <td>Bor1_currents_RVO-FUGRO_derived_CD</td>\n",
       "      <td>2023-03-20 17:18:43</td>\n",
       "      <td>Bor1_currents_RVO-FUGRO_derived_CD</td>\n",
       "      <td>Current direction</td>\n",
       "      <td>Bor1</td>\n",
       "      <td>CD</td>\n",
       "      <td>currents</td>\n",
       "      <td>degree-N-to</td>\n",
       "      <td>Provider</td>\n",
       "      <td></td>\n",
       "      <td>RVO-FUGRO</td>\n",
       "      <td>derived</td>\n",
       "      <td></td>\n",
       "      <td></td>\n",
       "      <td>NaN</td>\n",
       "      <td>NaN</td>\n",
       "      <td>NaN</td>\n",
       "    </tr>\n",
       "    <tr>\n",
       "      <th>{7394526C-C34A-11ED-B2F7-1831BF2DC749}</th>\n",
       "      <td>5</td>\n",
       "      <td>Bor1_currents_RVO-FUGRO_derived_CS</td>\n",
       "      <td>2023-03-20 17:18:44</td>\n",
       "      <td>Bor1_currents_RVO-FUGRO_derived_CS</td>\n",
       "      <td>Current speed</td>\n",
       "      <td>Bor1</td>\n",
       "      <td>CS</td>\n",
       "      <td>currents</td>\n",
       "      <td>m/s</td>\n",
       "      <td>Provider</td>\n",
       "      <td></td>\n",
       "      <td>RVO-FUGRO</td>\n",
       "      <td>derived</td>\n",
       "      <td></td>\n",
       "      <td></td>\n",
       "      <td>NaN</td>\n",
       "      <td>NaN</td>\n",
       "      <td>NaN</td>\n",
       "    </tr>\n",
       "    <tr>\n",
       "      <th>{7394526D-C34A-11ED-B2F7-1831BF2DC749}</th>\n",
       "      <td>6</td>\n",
       "      <td>Bor1_currents_RVO-FUGRO_missing_CD-4</td>\n",
       "      <td>2023-03-20 17:18:45</td>\n",
       "      <td>Bor1_currents_RVO-FUGRO_missing_CD-4</td>\n",
       "      <td>Current direction</td>\n",
       "      <td>Bor1</td>\n",
       "      <td>CD</td>\n",
       "      <td>currents</td>\n",
       "      <td>degree-N-to</td>\n",
       "      <td>Provider</td>\n",
       "      <td></td>\n",
       "      <td>RVO-FUGRO</td>\n",
       "      <td>missing</td>\n",
       "      <td></td>\n",
       "      <td></td>\n",
       "      <td>NaN</td>\n",
       "      <td>NaN</td>\n",
       "      <td>NaN</td>\n",
       "    </tr>\n",
       "  </tbody>\n",
       "</table>\n",
       "</div>"
      ],
      "text/plain": [
       "                                        ID  \\\n",
       "GUID                                         \n",
       "{62F60AF2-C34A-11ED-B2F7-1831BF2DC749}   2   \n",
       "{7394526A-C34A-11ED-B2F7-1831BF2DC749}   3   \n",
       "{7394526B-C34A-11ED-B2F7-1831BF2DC749}   4   \n",
       "{7394526C-C34A-11ED-B2F7-1831BF2DC749}   5   \n",
       "{7394526D-C34A-11ED-B2F7-1831BF2DC749}   6   \n",
       "\n",
       "                                                                    EntityID  \\\n",
       "GUID                                                                           \n",
       "{62F60AF2-C34A-11ED-B2F7-1831BF2DC749}        AKZ_waves_CMEMS_unfiltered_Hm0   \n",
       "{7394526A-C34A-11ED-B2F7-1831BF2DC749}         AKZ_waves_CMEMS_unfiltered_Tz   \n",
       "{7394526B-C34A-11ED-B2F7-1831BF2DC749}    Bor1_currents_RVO-FUGRO_derived_CD   \n",
       "{7394526C-C34A-11ED-B2F7-1831BF2DC749}    Bor1_currents_RVO-FUGRO_derived_CS   \n",
       "{7394526D-C34A-11ED-B2F7-1831BF2DC749}  Bor1_currents_RVO-FUGRO_missing_CD-4   \n",
       "\n",
       "                                                   Touched  \\\n",
       "GUID                                                         \n",
       "{62F60AF2-C34A-11ED-B2F7-1831BF2DC749} 2023-03-20 17:18:42   \n",
       "{7394526A-C34A-11ED-B2F7-1831BF2DC749} 2023-03-20 17:18:43   \n",
       "{7394526B-C34A-11ED-B2F7-1831BF2DC749} 2023-03-20 17:18:43   \n",
       "{7394526C-C34A-11ED-B2F7-1831BF2DC749} 2023-03-20 17:18:44   \n",
       "{7394526D-C34A-11ED-B2F7-1831BF2DC749} 2023-03-20 17:18:45   \n",
       "\n",
       "                                                                      IDName  \\\n",
       "GUID                                                                           \n",
       "{62F60AF2-C34A-11ED-B2F7-1831BF2DC749}        AKZ_waves_CMEMS_unfiltered_Hm0   \n",
       "{7394526A-C34A-11ED-B2F7-1831BF2DC749}         AKZ_waves_CMEMS_unfiltered_Tz   \n",
       "{7394526B-C34A-11ED-B2F7-1831BF2DC749}    Bor1_currents_RVO-FUGRO_derived_CD   \n",
       "{7394526C-C34A-11ED-B2F7-1831BF2DC749}    Bor1_currents_RVO-FUGRO_derived_CS   \n",
       "{7394526D-C34A-11ED-B2F7-1831BF2DC749}  Bor1_currents_RVO-FUGRO_missing_CD-4   \n",
       "\n",
       "                                                                 IDDescription  \\\n",
       "GUID                                                                             \n",
       "{62F60AF2-C34A-11ED-B2F7-1831BF2DC749}        Spectral significant wave height   \n",
       "{7394526A-C34A-11ED-B2F7-1831BF2DC749}  Average zero crossing wave period (Tz)   \n",
       "{7394526B-C34A-11ED-B2F7-1831BF2DC749}                       Current direction   \n",
       "{7394526C-C34A-11ED-B2F7-1831BF2DC749}                           Current speed   \n",
       "{7394526D-C34A-11ED-B2F7-1831BF2DC749}                       Current direction   \n",
       "\n",
       "                                       LocationID TimeSeriesParameterID  \\\n",
       "GUID                                                                      \n",
       "{62F60AF2-C34A-11ED-B2F7-1831BF2DC749}        AKZ                   Hm0   \n",
       "{7394526A-C34A-11ED-B2F7-1831BF2DC749}        AKZ                    Tz   \n",
       "{7394526B-C34A-11ED-B2F7-1831BF2DC749}       Bor1                    CD   \n",
       "{7394526C-C34A-11ED-B2F7-1831BF2DC749}       Bor1                    CS   \n",
       "{7394526D-C34A-11ED-B2F7-1831BF2DC749}       Bor1                    CD   \n",
       "\n",
       "                                       TimeSeriesMediaID TimeSeriesUnitID  \\\n",
       "GUID                                                                        \n",
       "{62F60AF2-C34A-11ED-B2F7-1831BF2DC749}             waves                m   \n",
       "{7394526A-C34A-11ED-B2F7-1831BF2DC749}             waves                s   \n",
       "{7394526B-C34A-11ED-B2F7-1831BF2DC749}          currents      degree-N-to   \n",
       "{7394526C-C34A-11ED-B2F7-1831BF2DC749}          currents              m/s   \n",
       "{7394526D-C34A-11ED-B2F7-1831BF2DC749}          currents      degree-N-to   \n",
       "\n",
       "                                       TimeSeriesDataTypeID  \\\n",
       "GUID                                                          \n",
       "{62F60AF2-C34A-11ED-B2F7-1831BF2DC749}             Provider   \n",
       "{7394526A-C34A-11ED-B2F7-1831BF2DC749}             Provider   \n",
       "{7394526B-C34A-11ED-B2F7-1831BF2DC749}             Provider   \n",
       "{7394526C-C34A-11ED-B2F7-1831BF2DC749}             Provider   \n",
       "{7394526D-C34A-11ED-B2F7-1831BF2DC749}             Provider   \n",
       "\n",
       "                                       TimeSeriesDatasourceID  \\\n",
       "GUID                                                            \n",
       "{62F60AF2-C34A-11ED-B2F7-1831BF2DC749}                          \n",
       "{7394526A-C34A-11ED-B2F7-1831BF2DC749}                          \n",
       "{7394526B-C34A-11ED-B2F7-1831BF2DC749}                          \n",
       "{7394526C-C34A-11ED-B2F7-1831BF2DC749}                          \n",
       "{7394526D-C34A-11ED-B2F7-1831BF2DC749}                          \n",
       "\n",
       "                                       TimeSeriesTypeID TimeSeriesStatusID  \\\n",
       "GUID                                                                         \n",
       "{62F60AF2-C34A-11ED-B2F7-1831BF2DC749}            CMEMS         unfiltered   \n",
       "{7394526A-C34A-11ED-B2F7-1831BF2DC749}            CMEMS         unfiltered   \n",
       "{7394526B-C34A-11ED-B2F7-1831BF2DC749}        RVO-FUGRO            derived   \n",
       "{7394526C-C34A-11ED-B2F7-1831BF2DC749}        RVO-FUGRO            derived   \n",
       "{7394526D-C34A-11ED-B2F7-1831BF2DC749}        RVO-FUGRO            missing   \n",
       "\n",
       "                                       TimeSeriesDataProviderID  \\\n",
       "GUID                                                              \n",
       "{62F60AF2-C34A-11ED-B2F7-1831BF2DC749}                            \n",
       "{7394526A-C34A-11ED-B2F7-1831BF2DC749}                            \n",
       "{7394526B-C34A-11ED-B2F7-1831BF2DC749}                            \n",
       "{7394526C-C34A-11ED-B2F7-1831BF2DC749}                            \n",
       "{7394526D-C34A-11ED-B2F7-1831BF2DC749}                            \n",
       "\n",
       "                                       TimeSeriesDataProviderArgument  \\\n",
       "GUID                                                                    \n",
       "{62F60AF2-C34A-11ED-B2F7-1831BF2DC749}                                  \n",
       "{7394526A-C34A-11ED-B2F7-1831BF2DC749}                                  \n",
       "{7394526B-C34A-11ED-B2F7-1831BF2DC749}                                  \n",
       "{7394526C-C34A-11ED-B2F7-1831BF2DC749}                                  \n",
       "{7394526D-C34A-11ED-B2F7-1831BF2DC749}                                  \n",
       "\n",
       "                                        DataExpectedCount  DataArchiveAfter  \\\n",
       "GUID                                                                          \n",
       "{62F60AF2-C34A-11ED-B2F7-1831BF2DC749}                NaN               NaN   \n",
       "{7394526A-C34A-11ED-B2F7-1831BF2DC749}                NaN               NaN   \n",
       "{7394526B-C34A-11ED-B2F7-1831BF2DC749}                NaN               NaN   \n",
       "{7394526C-C34A-11ED-B2F7-1831BF2DC749}                NaN               NaN   \n",
       "{7394526D-C34A-11ED-B2F7-1831BF2DC749}                NaN               NaN   \n",
       "\n",
       "                                        DataDeleteAfter  \n",
       "GUID                                                     \n",
       "{62F60AF2-C34A-11ED-B2F7-1831BF2DC749}              NaN  \n",
       "{7394526A-C34A-11ED-B2F7-1831BF2DC749}              NaN  \n",
       "{7394526B-C34A-11ED-B2F7-1831BF2DC749}              NaN  \n",
       "{7394526C-C34A-11ED-B2F7-1831BF2DC749}              NaN  \n",
       "{7394526D-C34A-11ED-B2F7-1831BF2DC749}              NaN  "
      ]
     },
     "execution_count": 3,
     "metadata": {},
     "output_type": "execute_result"
    }
   ],
   "source": [
    "time_series_list = dfr.list_time_series()\n",
    "time_series_list.head()"
   ]
  },
  {
   "attachments": {},
   "cell_type": "markdown",
   "metadata": {},
   "source": [
    "### Get time series data"
   ]
  },
  {
   "cell_type": "code",
   "execution_count": 4,
   "metadata": {},
   "outputs": [
    {
     "data": {
      "text/html": [
       "<div>\n",
       "<style scoped>\n",
       "    .dataframe tbody tr th:only-of-type {\n",
       "        vertical-align: middle;\n",
       "    }\n",
       "\n",
       "    .dataframe tbody tr th {\n",
       "        vertical-align: top;\n",
       "    }\n",
       "\n",
       "    .dataframe thead th {\n",
       "        text-align: right;\n",
       "    }\n",
       "</style>\n",
       "<table border=\"1\" class=\"dataframe\">\n",
       "  <thead>\n",
       "    <tr style=\"text-align: right;\">\n",
       "      <th></th>\n",
       "      <th>Data</th>\n",
       "      <th>QualityTxt</th>\n",
       "    </tr>\n",
       "    <tr>\n",
       "      <th>RefDateTimeRef</th>\n",
       "      <th></th>\n",
       "      <th></th>\n",
       "    </tr>\n",
       "  </thead>\n",
       "  <tbody>\n",
       "    <tr>\n",
       "      <th>2013-05-22 10:37:41</th>\n",
       "      <td>0.105753</td>\n",
       "      <td>ok</td>\n",
       "    </tr>\n",
       "    <tr>\n",
       "      <th>2014-10-22 10:37:41</th>\n",
       "      <td>0.404689</td>\n",
       "      <td>ok</td>\n",
       "    </tr>\n",
       "    <tr>\n",
       "      <th>2022-09-28 20:32:31</th>\n",
       "      <td>637.000000</td>\n",
       "      <td>ok</td>\n",
       "    </tr>\n",
       "    <tr>\n",
       "      <th>2022-09-28 20:32:31</th>\n",
       "      <td>637.000000</td>\n",
       "      <td>ok</td>\n",
       "    </tr>\n",
       "    <tr>\n",
       "      <th>2022-09-28 20:32:36</th>\n",
       "      <td>637.000000</td>\n",
       "      <td>ok</td>\n",
       "    </tr>\n",
       "  </tbody>\n",
       "</table>\n",
       "</div>"
      ],
      "text/plain": [
       "                           Data QualityTxt\n",
       "RefDateTimeRef                            \n",
       "2013-05-22 10:37:41    0.105753         ok\n",
       "2014-10-22 10:37:41    0.404689         ok\n",
       "2022-09-28 20:32:31  637.000000         ok\n",
       "2022-09-28 20:32:31  637.000000         ok\n",
       "2022-09-28 20:32:36  637.000000         ok"
      ]
     },
     "execution_count": 4,
     "metadata": {},
     "output_type": "execute_result"
    }
   ],
   "source": [
    "data = dfr.get_data(\n",
    "    time_series_id=\"testapi.insert\",\n",
    "    limit=5,\n",
    "    ascending=True\n",
    ")\n",
    "data"
   ]
  },
  {
   "attachments": {},
   "cell_type": "markdown",
   "metadata": {},
   "source": [
    "### Delete data in a given range:"
   ]
  },
  {
   "cell_type": "code",
   "execution_count": 5,
   "metadata": {},
   "outputs": [
    {
     "name": "stdout",
     "output_type": "stream",
     "text": [
      "Deleting data in range [2013-05-22 10:37:41, 2022-09-28 20:32:36)\n"
     ]
    },
    {
     "data": {
      "text/plain": [
       "<Response [200]>"
      ]
     },
     "execution_count": 5,
     "metadata": {},
     "output_type": "execute_result"
    }
   ],
   "source": [
    "start, end = data.index[0], data.index[-1]\n",
    "print(f\"Deleting data in range [{start}, {end})\")\n",
    "dfr.delete_data(\"testapi.insert\", start=start, end=end)"
   ]
  },
  {
   "attachments": {},
   "cell_type": "markdown",
   "metadata": {},
   "source": [
    "Check that the data has been deleted:"
   ]
  },
  {
   "cell_type": "code",
   "execution_count": 6,
   "metadata": {},
   "outputs": [
    {
     "data": {
      "text/html": [
       "<div>\n",
       "<style scoped>\n",
       "    .dataframe tbody tr th:only-of-type {\n",
       "        vertical-align: middle;\n",
       "    }\n",
       "\n",
       "    .dataframe tbody tr th {\n",
       "        vertical-align: top;\n",
       "    }\n",
       "\n",
       "    .dataframe thead th {\n",
       "        text-align: right;\n",
       "    }\n",
       "</style>\n",
       "<table border=\"1\" class=\"dataframe\">\n",
       "  <thead>\n",
       "    <tr style=\"text-align: right;\">\n",
       "      <th></th>\n",
       "      <th>Data</th>\n",
       "      <th>QualityTxt</th>\n",
       "    </tr>\n",
       "    <tr>\n",
       "      <th>RefDateTimeRef</th>\n",
       "      <th></th>\n",
       "      <th></th>\n",
       "    </tr>\n",
       "  </thead>\n",
       "  <tbody>\n",
       "    <tr>\n",
       "      <th>2022-09-28 20:32:36</th>\n",
       "      <td>637.0</td>\n",
       "      <td>ok</td>\n",
       "    </tr>\n",
       "    <tr>\n",
       "      <th>2022-09-28 21:02:29</th>\n",
       "      <td>637.0</td>\n",
       "      <td>ok</td>\n",
       "    </tr>\n",
       "    <tr>\n",
       "      <th>2022-09-28 21:02:29</th>\n",
       "      <td>637.0</td>\n",
       "      <td>ok</td>\n",
       "    </tr>\n",
       "    <tr>\n",
       "      <th>2022-09-28 21:03:22</th>\n",
       "      <td>637.0</td>\n",
       "      <td>ok</td>\n",
       "    </tr>\n",
       "    <tr>\n",
       "      <th>2022-09-28 21:04:27</th>\n",
       "      <td>317.0</td>\n",
       "      <td>ok</td>\n",
       "    </tr>\n",
       "    <tr>\n",
       "      <th>2022-09-28 21:15:23</th>\n",
       "      <td>637.0</td>\n",
       "      <td>ok</td>\n",
       "    </tr>\n",
       "    <tr>\n",
       "      <th>2022-09-28 21:56:41</th>\n",
       "      <td>637.0</td>\n",
       "      <td>ok</td>\n",
       "    </tr>\n",
       "    <tr>\n",
       "      <th>2022-09-28 21:56:51</th>\n",
       "      <td>637.0</td>\n",
       "      <td>ok</td>\n",
       "    </tr>\n",
       "    <tr>\n",
       "      <th>2022-09-28 21:56:56</th>\n",
       "      <td>637.0</td>\n",
       "      <td>ok</td>\n",
       "    </tr>\n",
       "    <tr>\n",
       "      <th>2022-09-28 21:56:56</th>\n",
       "      <td>637.0</td>\n",
       "      <td>ok</td>\n",
       "    </tr>\n",
       "  </tbody>\n",
       "</table>\n",
       "</div>"
      ],
      "text/plain": [
       "                      Data QualityTxt\n",
       "RefDateTimeRef                       \n",
       "2022-09-28 20:32:36  637.0         ok\n",
       "2022-09-28 21:02:29  637.0         ok\n",
       "2022-09-28 21:02:29  637.0         ok\n",
       "2022-09-28 21:03:22  637.0         ok\n",
       "2022-09-28 21:04:27  317.0         ok\n",
       "2022-09-28 21:15:23  637.0         ok\n",
       "2022-09-28 21:56:41  637.0         ok\n",
       "2022-09-28 21:56:51  637.0         ok\n",
       "2022-09-28 21:56:56  637.0         ok\n",
       "2022-09-28 21:56:56  637.0         ok"
      ]
     },
     "execution_count": 6,
     "metadata": {},
     "output_type": "execute_result"
    }
   ],
   "source": [
    "data = dfr.get_data(\n",
    "    time_series_id=\"testapi.insert\",\n",
    "    limit=10,\n",
    "    ascending=True\n",
    ")\n",
    "data"
   ]
  },
  {
   "attachments": {},
   "cell_type": "markdown",
   "metadata": {},
   "source": [
    "### Insert time series data"
   ]
  },
  {
   "attachments": {},
   "cell_type": "markdown",
   "metadata": {},
   "source": [
    "Here we prepare some data to insert in form of a dataframe."
   ]
  },
  {
   "cell_type": "code",
   "execution_count": 9,
   "metadata": {},
   "outputs": [
    {
     "data": {
      "text/html": [
       "<div>\n",
       "<style scoped>\n",
       "    .dataframe tbody tr th:only-of-type {\n",
       "        vertical-align: middle;\n",
       "    }\n",
       "\n",
       "    .dataframe tbody tr th {\n",
       "        vertical-align: top;\n",
       "    }\n",
       "\n",
       "    .dataframe thead th {\n",
       "        text-align: right;\n",
       "    }\n",
       "</style>\n",
       "<table border=\"1\" class=\"dataframe\">\n",
       "  <thead>\n",
       "    <tr style=\"text-align: right;\">\n",
       "      <th></th>\n",
       "      <th>TimeStamp</th>\n",
       "      <th>Data</th>\n",
       "      <th>Quality</th>\n",
       "    </tr>\n",
       "  </thead>\n",
       "  <tbody>\n",
       "    <tr>\n",
       "      <th>0</th>\n",
       "      <td>2014-09-08 10:39:24.229608</td>\n",
       "      <td>0.446695</td>\n",
       "      <td>ok</td>\n",
       "    </tr>\n",
       "    <tr>\n",
       "      <th>1</th>\n",
       "      <td>2014-05-01 10:39:24.229734</td>\n",
       "      <td>0.617950</td>\n",
       "      <td>ok</td>\n",
       "    </tr>\n",
       "  </tbody>\n",
       "</table>\n",
       "</div>"
      ],
      "text/plain": [
       "                   TimeStamp      Data Quality\n",
       "0 2014-09-08 10:39:24.229608  0.446695      ok\n",
       "1 2014-05-01 10:39:24.229734  0.617950      ok"
      ]
     },
     "execution_count": 9,
     "metadata": {},
     "output_type": "execute_result"
    }
   ],
   "source": [
    "import random\n",
    "\n",
    "random_date = lambda: pd.Timestamp.now() - pd.Timedelta(days=3000 + random.randint(1, 1000))\n",
    "rows = 2\n",
    "new_data = pd.DataFrame({\n",
    "    \"TimeStamp\": [random_date() for _ in range(rows)],\n",
    "    \"Data\": [random.random() for _ in range(rows)],\n",
    "    \"Quality\": [\"ok\"] * rows,\n",
    "})\n",
    "new_data\n"
   ]
  },
  {
   "attachments": {},
   "cell_type": "markdown",
   "metadata": {},
   "source": [
    "We can peek at the json body for the call to the API. The NaN value is represented as {\"N\": 1, \"V\": 0}."
   ]
  },
  {
   "cell_type": "code",
   "execution_count": 10,
   "metadata": {},
   "outputs": [
    {
     "name": "stdout",
     "output_type": "stream",
     "text": [
      "{\n",
      "  \"BulkInsert\": true,\n",
      "  \"TimeSeriesName\": \"testapi.insert\",\n",
      "  \"TimeStamp\": [\n",
      "    \"2014-09-08T10:39:24.229\",\n",
      "    \"2014-05-01T10:39:24.229\"\n",
      "  ],\n",
      "  \"Data\": [\n",
      "    {\n",
      "      \"N\": 0,\n",
      "      \"V\": 0.4466948011874553\n",
      "    },\n",
      "    {\n",
      "      \"N\": 0,\n",
      "      \"V\": 0.6179502362631356\n",
      "    }\n",
      "  ],\n",
      "  \"QualityLevel\": [\n",
      "    0,\n",
      "    0\n",
      "  ]\n",
      "}\n"
     ]
    }
   ],
   "source": [
    "body = dfr._get_insert_data_body(\"testapi.insert\", new_data, bulk_insert=True)\n",
    "body_json = json.dumps(body, indent=2)\n",
    "print(body_json)"
   ]
  },
  {
   "attachments": {},
   "cell_type": "markdown",
   "metadata": {},
   "source": [
    "To insert the data we use the `insert_data` method:"
   ]
  },
  {
   "cell_type": "code",
   "execution_count": 11,
   "metadata": {},
   "outputs": [],
   "source": [
    "try:\n",
    "    res = dfr.insert_data(\"testapi.insert\", new_data, bulk_insert=True)  # TODO: Error 500 ??\n",
    "except HTTPError as e:\n",
    "    print(e)"
   ]
  },
  {
   "cell_type": "code",
   "execution_count": 13,
   "metadata": {},
   "outputs": [
    {
     "data": {
      "text/plain": [
       "{'ItemsWritten': 2}"
      ]
     },
     "execution_count": 13,
     "metadata": {},
     "output_type": "execute_result"
    }
   ],
   "source": [
    "res.json()"
   ]
  },
  {
   "attachments": {},
   "cell_type": "markdown",
   "metadata": {},
   "source": [
    "### Close connection"
   ]
  },
  {
   "cell_type": "code",
   "execution_count": 11,
   "metadata": {},
   "outputs": [
    {
     "name": "stdout",
     "output_type": "stream",
     "text": [
      "401 Client Error: Unauthorized for url: https://apidevtest.datafarm.work/api/List/TimeSeries/\n"
     ]
    }
   ],
   "source": [
    "dfr.close()\n",
    "\n",
    "# Now this will fail:\n",
    "try:\n",
    "    dfr.list_time_series()\n",
    "except HTTPError as e:\n",
    "    print(e)"
   ]
  },
  {
   "cell_type": "code",
   "execution_count": 12,
   "metadata": {},
   "outputs": [],
   "source": [
    "# Reconnect and try again\n",
    "dfr.connect()\n",
    "dfr.list_time_series().head()\n",
    "dfr.close()"
   ]
  },
  {
   "attachments": {},
   "cell_type": "markdown",
   "metadata": {},
   "source": [
    "### Using the context manager"
   ]
  },
  {
   "cell_type": "code",
   "execution_count": 13,
   "metadata": {},
   "outputs": [
    {
     "data": {
      "text/html": [
       "<div>\n",
       "<style scoped>\n",
       "    .dataframe tbody tr th:only-of-type {\n",
       "        vertical-align: middle;\n",
       "    }\n",
       "\n",
       "    .dataframe tbody tr th {\n",
       "        vertical-align: top;\n",
       "    }\n",
       "\n",
       "    .dataframe thead th {\n",
       "        text-align: right;\n",
       "    }\n",
       "</style>\n",
       "<table border=\"1\" class=\"dataframe\">\n",
       "  <thead>\n",
       "    <tr style=\"text-align: right;\">\n",
       "      <th></th>\n",
       "      <th>Data</th>\n",
       "      <th>QualityTxt</th>\n",
       "    </tr>\n",
       "    <tr>\n",
       "      <th>RefDateTimeRef</th>\n",
       "      <th></th>\n",
       "      <th></th>\n",
       "    </tr>\n",
       "  </thead>\n",
       "  <tbody>\n",
       "    <tr>\n",
       "      <th>2012-08-14 09:58:24</th>\n",
       "      <td>0.727511</td>\n",
       "      <td>ok</td>\n",
       "    </tr>\n",
       "    <tr>\n",
       "      <th>2014-12-15 09:58:24</th>\n",
       "      <td>0.024472</td>\n",
       "      <td>ok</td>\n",
       "    </tr>\n",
       "  </tbody>\n",
       "</table>\n",
       "</div>"
      ],
      "text/plain": [
       "                         Data QualityTxt\n",
       "RefDateTimeRef                          \n",
       "2012-08-14 09:58:24  0.727511         ok\n",
       "2014-12-15 09:58:24  0.024472         ok"
      ]
     },
     "execution_count": 13,
     "metadata": {},
     "output_type": "execute_result"
    }
   ],
   "source": [
    "\n",
    "with DatafarmRepository(api_key) as dfr:\n",
    "    data = dfr.get_data(\n",
    "        time_series_id=\"testapi.insert\",\n",
    "        limit=2\n",
    "    )\n",
    "data"
   ]
  }
 ],
 "metadata": {
  "kernelspec": {
   "display_name": "base",
   "language": "python",
   "name": "python3"
  },
  "language_info": {
   "codemirror_mode": {
    "name": "ipython",
    "version": 3
   },
   "file_extension": ".py",
   "mimetype": "text/x-python",
   "name": "python",
   "nbconvert_exporter": "python",
   "pygments_lexer": "ipython3",
   "version": "3.10.8"
  },
  "orig_nbformat": 4,
  "vscode": {
   "interpreter": {
    "hash": "7aec4f91c09090e98e6ae8203c38529831bb4a3ce54cd1b69639b53cb01a6aa9"
   }
  }
 },
 "nbformat": 4,
 "nbformat_minor": 2
}
