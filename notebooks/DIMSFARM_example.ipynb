{
 "cells": [
  {
   "attachments": {},
   "cell_type": "markdown",
   "metadata": {},
   "source": [
    "# DIMS.FARM REST API example"
   ]
  },
  {
   "cell_type": "code",
   "execution_count": 1,
   "metadata": {},
   "outputs": [],
   "source": [
    "import pandas as pd\n",
    "import requests\n",
    "import json\n",
    "import pandas.io.json as pj"
   ]
  },
  {
   "cell_type": "code",
   "execution_count": 6,
   "metadata": {},
   "outputs": [],
   "source": [
    "API_URL = \"http://10.101.0.29:8099/api\"\n",
    "TOKEN = \"\""
   ]
  },
  {
   "cell_type": "code",
   "execution_count": 7,
   "metadata": {},
   "outputs": [
    {
     "data": {
      "text/plain": [
       "{'session': '{712A64D2-3320-4BF1-82E8-FE439D99C181}'}"
      ]
     },
     "execution_count": 7,
     "metadata": {},
     "output_type": "execute_result"
    }
   ],
   "source": [
    "endpoint = \"/Login/Login\"\n",
    "r = requests.post(API_URL + endpoint, params={\"TOKEN\": TOKEN}) \n",
    "r.raise_for_status()\n",
    "r.json()"
   ]
  },
  {
   "cell_type": "code",
   "execution_count": 8,
   "metadata": {},
   "outputs": [
    {
     "data": {
      "text/plain": [
       "'{712A64D2-3320-4BF1-82E8-FE439D99C181}'"
      ]
     },
     "execution_count": 8,
     "metadata": {},
     "output_type": "execute_result"
    }
   ],
   "source": [
    "session = r.json()[\"session\"]\n",
    "session"
   ]
  },
  {
   "cell_type": "code",
   "execution_count": 11,
   "metadata": {},
   "outputs": [],
   "source": [
    "endpoint = \"/TimeSeries/List\"\n",
    "r = requests.post(API_URL + endpoint, headers={\"Access-Token\": session}) \n",
    "r.raise_for_status()\n",
    "data = r.json()"
   ]
  },
  {
   "cell_type": "code",
   "execution_count": 32,
   "metadata": {},
   "outputs": [],
   "source": [
    "cols = [f[\"name\"] for f in data[\"schema\"][\"fields\"]]"
   ]
  },
  {
   "cell_type": "code",
   "execution_count": 21,
   "metadata": {},
   "outputs": [],
   "source": [
    "def ReadFarmPandaJson(json_input):\n",
    "    ac = [] # Column names\n",
    "    o = json.loads(json_input)\n",
    "    for f in o[\"schema\"][\"fields\"]:\n",
    "        ac.append(f[\"name\"])\n",
    "    df = pd.read_json(json.dumps(o[\"data\"]), orient=\"values\") # Create the dataframe from values - index is being created automatically, that should be ignored!\n",
    "    df.columns = ac # Rename columns to correct names\n",
    "    zipped = zip(o[\"schema\"][\"fields\"], pj.build_table_schema(df, index=False)[\"fields\"]) # ignoring index from the newly created frame\n",
    "    for m, l in zipped:\n",
    "        if m[\"type\"] != l[\"type\"]:\n",
    "            if m[\"type\"] == \"datetime\":\n",
    "                df.loc[:,m[\"name\"]] = pd.to_datetime(df.loc[:,m[\"name\"]], unit='ms')\n",
    "            if m[\"type\"] == \"number\":    \n",
    "                df.loc[:,m[\"name\"]] = df.loc[:,m[\"name\"]].astype(float)\n",
    "    df.set_index(o[\"schema\"][\"primaryKey\"][0], inplace=True) # Setting index in actual dataframe, Assume index name from PK\n",
    "    return df"
   ]
  },
  {
   "cell_type": "code",
   "execution_count": 33,
   "metadata": {},
   "outputs": [
    {
     "data": {
      "text/html": [
       "<div>\n",
       "<style scoped>\n",
       "    .dataframe tbody tr th:only-of-type {\n",
       "        vertical-align: middle;\n",
       "    }\n",
       "\n",
       "    .dataframe tbody tr th {\n",
       "        vertical-align: top;\n",
       "    }\n",
       "\n",
       "    .dataframe thead th {\n",
       "        text-align: right;\n",
       "    }\n",
       "</style>\n",
       "<table border=\"1\" class=\"dataframe\">\n",
       "  <thead>\n",
       "    <tr style=\"text-align: right;\">\n",
       "      <th></th>\n",
       "      <th>EntityID</th>\n",
       "      <th>Touched</th>\n",
       "      <th>IDName</th>\n",
       "      <th>IDDescription</th>\n",
       "      <th>LocationID</th>\n",
       "      <th>TimeSeriesParameterID</th>\n",
       "      <th>TimeSeriesMediaID</th>\n",
       "      <th>TimeSeriesUnitID</th>\n",
       "      <th>TimeSeriesDataTypeID</th>\n",
       "      <th>TimeSeriesDatasourceID</th>\n",
       "      <th>TimeSeriesTypeID</th>\n",
       "      <th>TimeSeriesStatusID</th>\n",
       "      <th>TimeSeriesDataProviderID</th>\n",
       "      <th>TimeSeriesDataProviderArgument</th>\n",
       "      <th>DataExpectedCount</th>\n",
       "      <th>DataArchiveAfter</th>\n",
       "      <th>DataDeleteAfter</th>\n",
       "    </tr>\n",
       "    <tr>\n",
       "      <th>ID</th>\n",
       "      <th></th>\n",
       "      <th></th>\n",
       "      <th></th>\n",
       "      <th></th>\n",
       "      <th></th>\n",
       "      <th></th>\n",
       "      <th></th>\n",
       "      <th></th>\n",
       "      <th></th>\n",
       "      <th></th>\n",
       "      <th></th>\n",
       "      <th></th>\n",
       "      <th></th>\n",
       "      <th></th>\n",
       "      <th></th>\n",
       "      <th></th>\n",
       "      <th></th>\n",
       "    </tr>\n",
       "  </thead>\n",
       "  <tbody>\n",
       "    <tr>\n",
       "      <th>2</th>\n",
       "      <td>BIRKUD.Intern niveau.Offset.dvr</td>\n",
       "      <td>2011-10-25 09:52:07</td>\n",
       "      <td>BIRKUD.Intern niveau.Offset.dvr</td>\n",
       "      <td>Niveau offset dnn målt Birkedalen til Streget(...</td>\n",
       "      <td>BIRKUD</td>\n",
       "      <td>Niveau offset dvr</td>\n",
       "      <td>Vandløb</td>\n",
       "      <td>m</td>\n",
       "      <td>Unknown</td>\n",
       "      <td>SIGNALIX</td>\n",
       "      <td>Offset</td>\n",
       "      <td></td>\n",
       "      <td></td>\n",
       "      <td></td>\n",
       "      <td>NaN</td>\n",
       "      <td>NaN</td>\n",
       "      <td>NaN</td>\n",
       "    </tr>\n",
       "    <tr>\n",
       "      <th>3</th>\n",
       "      <td>BIRKUD.Intern niveau.dvr</td>\n",
       "      <td>2011-10-25 09:52:08</td>\n",
       "      <td>BIRKUD.Intern niveau.dvr</td>\n",
       "      <td>Niveau dnn målt Birkedalen til Streget(st. 1354)</td>\n",
       "      <td>BIRKUD</td>\n",
       "      <td>Niveau dvr</td>\n",
       "      <td>Vandløb</td>\n",
       "      <td>m</td>\n",
       "      <td>Unknown</td>\n",
       "      <td>SIGNALIX</td>\n",
       "      <td>Beregnet</td>\n",
       "      <td></td>\n",
       "      <td></td>\n",
       "      <td></td>\n",
       "      <td>NaN</td>\n",
       "      <td>NaN</td>\n",
       "      <td>NaN</td>\n",
       "    </tr>\n",
       "    <tr>\n",
       "      <th>4</th>\n",
       "      <td>BIRKUD.Intern niveau</td>\n",
       "      <td>2016-09-22 09:48:56</td>\n",
       "      <td>BIRKUD.Intern niveau</td>\n",
       "      <td>Niveau målt Birkedalen til Streget(st. 1354)</td>\n",
       "      <td>BIRKUD</td>\n",
       "      <td>Niveau</td>\n",
       "      <td>Vandløb</td>\n",
       "      <td>m</td>\n",
       "      <td>Unknown</td>\n",
       "      <td>SIGNALIX</td>\n",
       "      <td>Datalogger</td>\n",
       "      <td></td>\n",
       "      <td></td>\n",
       "      <td></td>\n",
       "      <td>NaN</td>\n",
       "      <td>NaN</td>\n",
       "      <td>NaN</td>\n",
       "    </tr>\n",
       "    <tr>\n",
       "      <th>5</th>\n",
       "      <td>BIRKUD.Hastigheden</td>\n",
       "      <td>2016-09-22 09:48:57</td>\n",
       "      <td>BIRKUD.Hastigheden</td>\n",
       "      <td>Hastighed målt Birkedalen til Streget(st. 1354)</td>\n",
       "      <td>BIRKUD</td>\n",
       "      <td>Hastighed</td>\n",
       "      <td>Vandløb</td>\n",
       "      <td>m/s</td>\n",
       "      <td>Unknown</td>\n",
       "      <td>SIGNALIX</td>\n",
       "      <td>Datalogger</td>\n",
       "      <td></td>\n",
       "      <td></td>\n",
       "      <td></td>\n",
       "      <td>NaN</td>\n",
       "      <td>NaN</td>\n",
       "      <td>NaN</td>\n",
       "    </tr>\n",
       "    <tr>\n",
       "      <th>6</th>\n",
       "      <td>BIRKUD.Flow_korrigeret</td>\n",
       "      <td>2012-01-29 18:56:42</td>\n",
       "      <td>BIRKUD.Flow_korrigeret</td>\n",
       "      <td>Flow målt Birkedalen til Streget(st. 1354)</td>\n",
       "      <td>BIRKUD</td>\n",
       "      <td>Flow Korrigeret</td>\n",
       "      <td>Vandløb</td>\n",
       "      <td>l/s</td>\n",
       "      <td>Unknown</td>\n",
       "      <td>SIGNALIX</td>\n",
       "      <td>Beregnet</td>\n",
       "      <td></td>\n",
       "      <td></td>\n",
       "      <td></td>\n",
       "      <td>NaN</td>\n",
       "      <td>NaN</td>\n",
       "      <td>NaN</td>\n",
       "    </tr>\n",
       "  </tbody>\n",
       "</table>\n",
       "</div>"
      ],
      "text/plain": [
       "                           EntityID             Touched  \\\n",
       "ID                                                        \n",
       "2   BIRKUD.Intern niveau.Offset.dvr 2011-10-25 09:52:07   \n",
       "3          BIRKUD.Intern niveau.dvr 2011-10-25 09:52:08   \n",
       "4              BIRKUD.Intern niveau 2016-09-22 09:48:56   \n",
       "5                BIRKUD.Hastigheden 2016-09-22 09:48:57   \n",
       "6            BIRKUD.Flow_korrigeret 2012-01-29 18:56:42   \n",
       "\n",
       "                             IDName  \\\n",
       "ID                                    \n",
       "2   BIRKUD.Intern niveau.Offset.dvr   \n",
       "3          BIRKUD.Intern niveau.dvr   \n",
       "4              BIRKUD.Intern niveau   \n",
       "5                BIRKUD.Hastigheden   \n",
       "6            BIRKUD.Flow_korrigeret   \n",
       "\n",
       "                                        IDDescription LocationID  \\\n",
       "ID                                                                 \n",
       "2   Niveau offset dnn målt Birkedalen til Streget(...     BIRKUD   \n",
       "3    Niveau dnn målt Birkedalen til Streget(st. 1354)     BIRKUD   \n",
       "4        Niveau målt Birkedalen til Streget(st. 1354)     BIRKUD   \n",
       "5     Hastighed målt Birkedalen til Streget(st. 1354)     BIRKUD   \n",
       "6          Flow målt Birkedalen til Streget(st. 1354)     BIRKUD   \n",
       "\n",
       "   TimeSeriesParameterID TimeSeriesMediaID TimeSeriesUnitID  \\\n",
       "ID                                                            \n",
       "2      Niveau offset dvr           Vandløb                m   \n",
       "3             Niveau dvr           Vandløb                m   \n",
       "4                 Niveau           Vandløb                m   \n",
       "5              Hastighed           Vandløb              m/s   \n",
       "6        Flow Korrigeret           Vandløb              l/s   \n",
       "\n",
       "   TimeSeriesDataTypeID TimeSeriesDatasourceID TimeSeriesTypeID  \\\n",
       "ID                                                                \n",
       "2               Unknown               SIGNALIX           Offset   \n",
       "3               Unknown               SIGNALIX         Beregnet   \n",
       "4               Unknown               SIGNALIX       Datalogger   \n",
       "5               Unknown               SIGNALIX       Datalogger   \n",
       "6               Unknown               SIGNALIX         Beregnet   \n",
       "\n",
       "   TimeSeriesStatusID TimeSeriesDataProviderID TimeSeriesDataProviderArgument  \\\n",
       "ID                                                                              \n",
       "2                                                                               \n",
       "3                                                                               \n",
       "4                                                                               \n",
       "5                                                                               \n",
       "6                                                                               \n",
       "\n",
       "    DataExpectedCount  DataArchiveAfter  DataDeleteAfter  \n",
       "ID                                                        \n",
       "2                 NaN               NaN              NaN  \n",
       "3                 NaN               NaN              NaN  \n",
       "4                 NaN               NaN              NaN  \n",
       "5                 NaN               NaN              NaN  \n",
       "6                 NaN               NaN              NaN  "
      ]
     },
     "execution_count": 33,
     "metadata": {},
     "output_type": "execute_result"
    }
   ],
   "source": [
    "df = ReadFarmPandaJson(r.text)\n",
    "df.head()"
   ]
  },
  {
   "cell_type": "code",
   "execution_count": null,
   "metadata": {},
   "outputs": [],
   "source": []
  }
 ],
 "metadata": {
  "kernelspec": {
   "display_name": "base",
   "language": "python",
   "name": "python3"
  },
  "language_info": {
   "codemirror_mode": {
    "name": "ipython",
    "version": 3
   },
   "file_extension": ".py",
   "mimetype": "text/x-python",
   "name": "python",
   "nbconvert_exporter": "python",
   "pygments_lexer": "ipython3",
   "version": "3.10.8"
  },
  "orig_nbformat": 4,
  "vscode": {
   "interpreter": {
    "hash": "7aec4f91c09090e98e6ae8203c38529831bb4a3ce54cd1b69639b53cb01a6aa9"
   }
  }
 },
 "nbformat": 4,
 "nbformat_minor": 2
}
