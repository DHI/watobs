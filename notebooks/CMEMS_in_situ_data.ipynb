{
 "cells": [
  {
   "cell_type": "markdown",
   "metadata": {},
   "source": [
    "# Copernicus Marine In-situ data\n",
    "\n",
    "Copernicus Marine provides access to a lot of ocean observations through the [In Situ Thematic Centre](\n",
    "https://marine.copernicus.eu/about/producers/insitu-tac), which consists of a global centre and six regional centers\n",
    "\n",
    "* Arctic Ocean\n",
    "* Baltic Sea\n",
    "* Black Sea\n",
    "* Iberia Biscay Ireland Seas\n",
    "* Mediterranean Sea\n",
    "* North-west Shelf\n",
    "\n",
    "\n",
    "> The INS TAC provides integrated products for a core set of parameters (Temperature, Salinity, Current, Sea Level,Waves,Chlorophyll ,Oxygen ,Nutrients , Carbon) , for initialization, forcing, assimilation and validation of ocean numerical models. These products are used for forecasting, analysis and re-analysis of ocean physical and biogeochemical conditions, satellite validation and downstream applications that require NRT data\n"
   ]
  },
  {
   "cell_type": "markdown",
   "metadata": {},
   "source": [
    "## Data access\n",
    "\n",
    "To get an overview of what data is available you can visit the [CMEMS In Situ TAC Dashboard](http://www.marineinsitu.eu/dashboard/)\n",
    "\n",
    "Data can also be downloaded from the web interface.\n",
    "\n",
    "![](../images/cmems_insitu_dashboard.png)\n",
    "\n",
    "(To download CMEMS data, you first need to create a user, in order to get a username and password.\n",
    "\n",
    "Registering a new user can be [here](https://data.marine.copernicus.eu/register))\n"
   ]
  },
  {
   "cell_type": "code",
   "execution_count": null,
   "metadata": {},
   "outputs": [],
   "source": [
    "import os\n",
    "from urllib import request\n",
    "import matplotlib.pyplot as plt\n",
    "import pandas as pd\n",
    "import geopandas\n",
    "import xarray as xr"
   ]
  },
  {
   "cell_type": "markdown",
   "metadata": {},
   "source": [
    "## Platform overview"
   ]
  },
  {
   "cell_type": "code",
   "execution_count": null,
   "metadata": {},
   "outputs": [],
   "source": [
    "\n",
    "\n",
    "cols = \"platform_code,date_creation,date_update,wmo_platform_code,data_source,institution,institution_edmo_code,parameters,last_latitude_observation,last_longitude_observation,last_date_observation\".split(\",\")\n",
    "\n",
    "platforms = pd.read_csv(\"https://data-marineinsitu.ifremer.fr/glo_multiparameter_nrt/index_platform.txt\", names=cols, header=None, comment=\"#\")"
   ]
  },
  {
   "cell_type": "code",
   "execution_count": null,
   "metadata": {},
   "outputs": [],
   "source": [
    "platforms.head()"
   ]
  },
  {
   "cell_type": "markdown",
   "metadata": {},
   "source": [
    "The observed parameters for each platform is found in the parameters columns, but not in a [tidy](https://vita.had.co.nz/papers/tidy-data.pdf) format.\n",
    "Let's fix that!"
   ]
  },
  {
   "cell_type": "code",
   "execution_count": null,
   "metadata": {},
   "outputs": [],
   "source": [
    "platforms['parameters'] = platforms.parameters.str.split()\n",
    "platforms = platforms.explode(\"parameters\")\n",
    "platforms.head()"
   ]
  },
  {
   "cell_type": "markdown",
   "metadata": {},
   "source": [
    "There are many different variables (\"parameters\") available for download.\n",
    "\n",
    "Here is a list of some popular parameter abbreviations."
   ]
  },
  {
   "cell_type": "code",
   "execution_count": null,
   "metadata": {},
   "outputs": [],
   "source": [
    "platforms.groupby(\"parameters\").platform_code.count().nlargest(30)"
   ]
  },
  {
   "cell_type": "code",
   "execution_count": null,
   "metadata": {},
   "outputs": [],
   "source": [
    "wave_platforms = platforms[platforms.parameters == \"VHM0\"][[\"platform_code\", \"institution\", \"last_latitude_observation\", \"last_longitude_observation\"]]"
   ]
  },
  {
   "cell_type": "markdown",
   "metadata": {},
   "source": [
    "Let's try to filter this list to a specific area"
   ]
  },
  {
   "cell_type": "code",
   "execution_count": null,
   "metadata": {},
   "outputs": [],
   "source": [
    "wave_platforms_gdf = geopandas.GeoDataFrame(\n",
    "    wave_platforms, geometry=geopandas.points_from_xy(wave_platforms.last_longitude_observation, wave_platforms.last_latitude_observation),crs=4326)\n",
    "\n",
    "wave_platforms_gdf[['platform_code','geometry']].head()"
   ]
  },
  {
   "cell_type": "code",
   "execution_count": null,
   "metadata": {},
   "outputs": [],
   "source": [
    "aoi = geopandas.read_file(\"../tests/data/northsea.geojson\", crs=4326)\n",
    "aoi.plot()\n",
    "plt.title(\"Area of interest\")"
   ]
  },
  {
   "cell_type": "code",
   "execution_count": null,
   "metadata": {},
   "outputs": [],
   "source": [
    "ns_wave_platforms = wave_platforms_gdf.overlay(aoi, how='intersection')\n",
    "\n",
    "m = aoi.explore()\n",
    "ns_wave_platforms.explore(m=m, color='red')\n"
   ]
  },
  {
   "cell_type": "markdown",
   "metadata": {},
   "source": [
    "`Fanoebugt` seems like it could be relevant, let's try to download that data"
   ]
  },
  {
   "cell_type": "code",
   "execution_count": null,
   "metadata": {},
   "outputs": [],
   "source": [
    "stn = 'Fanoebugt'\n",
    "base_url = \"https://data-marineinsitu.ifremer.fr/glo_multiparameter_nrt/history/MO/\"\n",
    "\n",
    "tac = \"NO\" # TODO how to get this?\n",
    "\n",
    "filename = f\"{tac}_TS_MO_{stn}.nc\"\n",
    "\n",
    "url = os.path.join(base_url,filename)\n",
    "url\n"
   ]
  },
  {
   "cell_type": "code",
   "execution_count": null,
   "metadata": {},
   "outputs": [],
   "source": [
    "response = request.urlretrieve(url, filename)"
   ]
  },
  {
   "cell_type": "code",
   "execution_count": null,
   "metadata": {},
   "outputs": [],
   "source": [
    "ds = xr.open_dataset(filename)\n",
    "ds"
   ]
  },
  {
   "cell_type": "markdown",
   "metadata": {},
   "source": [
    "The dataset contains many different variables"
   ]
  },
  {
   "cell_type": "code",
   "execution_count": null,
   "metadata": {},
   "outputs": [],
   "source": [
    "ds.data_vars"
   ]
  },
  {
   "cell_type": "markdown",
   "metadata": {},
   "source": [
    "Each variable has a standard name ([CF convention](https://cfconventions.org/Data/cf-standard-names/current/build/cf-standard-name-table.html))"
   ]
  },
  {
   "cell_type": "code",
   "execution_count": null,
   "metadata": {},
   "outputs": [],
   "source": [
    "ds.VHM0.standard_name"
   ]
  },
  {
   "cell_type": "markdown",
   "metadata": {},
   "source": [
    "As well a long, friendly name"
   ]
  },
  {
   "cell_type": "code",
   "execution_count": null,
   "metadata": {},
   "outputs": [],
   "source": [
    "ds.VHM0.long_name"
   ]
  },
  {
   "cell_type": "markdown",
   "metadata": {},
   "source": [
    "Each variable also has an associated QC flag"
   ]
  },
  {
   "cell_type": "code",
   "execution_count": null,
   "metadata": {},
   "outputs": [],
   "source": [
    "ds.VHM0_QC.long_name"
   ]
  },
  {
   "cell_type": "code",
   "execution_count": null,
   "metadata": {},
   "outputs": [],
   "source": [
    "ds.VHM0.isel(DEPTH=0).plot()"
   ]
  },
  {
   "cell_type": "code",
   "execution_count": null,
   "metadata": {},
   "outputs": [],
   "source": [
    "ds.VHM0.isel(DEPTH=0).sel(TIME=slice(\"2020-10-15\",\"2020-12-15\")).plot.line('+-')"
   ]
  },
  {
   "cell_type": "code",
   "execution_count": null,
   "metadata": {},
   "outputs": [],
   "source": [
    "ds.VHM0_QC.isel(DEPTH=0).sel(TIME=slice(\"2020-10-15\",\"2020-12-15\")).plot.line('+-')"
   ]
  },
  {
   "cell_type": "code",
   "execution_count": null,
   "metadata": {},
   "outputs": [],
   "source": [
    "ds.isel(DEPTH=0).sel(TIME=slice(\"2020-11-01\",\"2020-11-09\"))[['VHM0','VHM0_QC']].to_dataframe()"
   ]
  },
  {
   "cell_type": "code",
   "execution_count": null,
   "metadata": {},
   "outputs": [],
   "source": []
  },
  {
   "cell_type": "code",
   "execution_count": null,
   "metadata": {},
   "outputs": [],
   "source": []
  }
 ],
 "metadata": {
  "kernelspec": {
   "display_name": "Python 3.10.6 ('base')",
   "language": "python",
   "name": "python3"
  },
  "language_info": {
   "codemirror_mode": {
    "name": "ipython",
    "version": 3
   },
   "file_extension": ".py",
   "mimetype": "text/x-python",
   "name": "python",
   "nbconvert_exporter": "python",
   "pygments_lexer": "ipython3",
   "version": "3.10.6"
  },
  "orig_nbformat": 4,
  "vscode": {
   "interpreter": {
    "hash": "29241bd0f6dcdc7baf6ca7a8c63eed3702f363cfda55e5fb2434992ede57da6b"
   }
  }
 },
 "nbformat": 4,
 "nbformat_minor": 2
}
